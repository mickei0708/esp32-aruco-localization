{
 "cells": [
  {
   "cell_type": "code",
   "execution_count": 6,
   "id": "d139a476",
   "metadata": {},
   "outputs": [],
   "source": [
    "import cv2\n",
    "import cv2.aruco as aruco\n",
    "import os"
   ]
  },
  {
   "cell_type": "code",
   "execution_count": 7,
   "id": "58579590",
   "metadata": {},
   "outputs": [],
   "source": [
    "# Select dictionary, e.g., 6x6 with 250 markers\n",
    "aruco_dict = aruco.getPredefinedDictionary(cv2.aruco.DICT_4X4_250)"
   ]
  },
  {
   "cell_type": "code",
   "execution_count": 8,
   "id": "808801b5",
   "metadata": {},
   "outputs": [
    {
     "name": "stdout",
     "output_type": "stream",
     "text": [
      "< cv2.aruco.Dictionary 0x106542330>\n"
     ]
    }
   ],
   "source": [
    "print(aruco_dict)"
   ]
  },
  {
   "cell_type": "code",
   "execution_count": 9,
   "id": "ad88215f",
   "metadata": {},
   "outputs": [],
   "source": [
    "# ID of the marker to generate (between 0 and 249 for DICT_6X6_250)\n",
    "marker_id = 65\n",
    "\n",
    "# Marker size in pixels\n",
    "marker_size = 200  \n"
   ]
  },
  {
   "cell_type": "code",
   "execution_count": 10,
   "id": "1938afb9",
   "metadata": {},
   "outputs": [],
   "source": [
    "os.makedirs(\"Markers\")\n",
    "\n",
    "for id in range(1, marker_id):\n",
    "    # Create marker image\n",
    "    marker_img = aruco.generateImageMarker(aruco_dict, id, marker_size)\n",
    "\n",
    "    # Save to file\n",
    "    cv2.imwrite(f\"Markers/aruco_marker_{id}.png\", marker_img)\n"
   ]
  }
 ],
 "metadata": {
  "kernelspec": {
   "display_name": "venv",
   "language": "python",
   "name": "python3"
  },
  "language_info": {
   "codemirror_mode": {
    "name": "ipython",
    "version": 3
   },
   "file_extension": ".py",
   "mimetype": "text/x-python",
   "name": "python",
   "nbconvert_exporter": "python",
   "pygments_lexer": "ipython3",
   "version": "3.13.3"
  }
 },
 "nbformat": 4,
 "nbformat_minor": 5
}
